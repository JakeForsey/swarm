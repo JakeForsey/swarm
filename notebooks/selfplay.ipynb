{
 "cells": [
  {
   "cell_type": "code",
   "execution_count": null,
   "metadata": {},
   "outputs": [],
   "source": [
    "import json\n",
    "import hashlib\n",
    "import os\n",
    "\n",
    "import numpy as np"
   ]
  },
  {
   "cell_type": "code",
   "execution_count": null,
   "metadata": {},
   "outputs": [],
   "source": [
    "id_to_name = {\"random\": \"random\"}\n",
    "agent_dir = \"/home/cortex1/swarm/swarm/agents\"\n",
    "for agent_file in os.listdir(agent_dir):\n",
    "    if not agent_file.endswith(\".py\"):\n",
    "        continue\n",
    "    with open(os.path.join(agent_dir, agent_file), \"r\") as f:\n",
    "        src = f.read()\n",
    "    id_to_name[hashlib.sha256(src.encode()).hexdigest()] = agent_file.replace(\".py\", \"\")"
   ]
  },
  {
   "cell_type": "code",
   "execution_count": null,
   "metadata": {},
   "outputs": [],
   "source": [
    "records = []\n",
    "run_id = \"670c66d8\" \n",
    "# run_id = \"0bcbbad9\" \n",
    "run_dir = f\"/home/cortex1/swarm/results/evolve/{run_id}\"\n",
    "for epoch_dir in os.listdir(run_dir):\n",
    "    epoch = int(epoch_dir)\n",
    "    epoch_dir = os.path.join(run_dir, epoch_dir)\n",
    "    for sample_file in os.listdir(epoch_dir):\n",
    "        if sample_file.endswith(\".json\"):\n",
    "            sample_file_path = os.path.join(epoch_dir, sample_file)\n",
    "            with open(sample_file_path, \"r\") as f:\n",
    "                data = json.load(f)\n",
    "                data[\"epoch\"] = epoch\n",
    "                records.append(data)"
   ]
  },
  {
   "cell_type": "code",
   "execution_count": null,
   "metadata": {},
   "outputs": [],
   "source": [
    "import matplotlib.pyplot as plt\n",
    "\n",
    "plt.style.use(\"ggplot\")\n",
    "\n",
    "for record in records:\n",
    "    record[\"baseline_mean\"] = sum(record[\"baseline_scores\"].values()) / len(record[\"baseline_scores\"].values())\n"
   ]
  },
  {
   "cell_type": "code",
   "execution_count": null,
   "metadata": {},
   "outputs": [],
   "source": [
    "x = np.array([record[\"epoch\"] for record in records])\n",
    "y = np.array([record[\"baseline_mean\"] for record in records])\n",
    "\n",
    "medians = []\n",
    "for i in range(max(x) + 1):\n",
    "    medians.append(np.median(y[x == i]))\n",
    "\n",
    "plt.figure(figsize=(12, 4))\n",
    "plt.scatter(x, y, alpha=0.3)\n",
    "plt.plot([0, max(x)], [0.0, 0.0], \"--\", c=\"grey\")\n",
    "plt.plot([0, max(x)], [0.5, 0.5], \"--\", c=\"grey\")\n",
    "plt.plot([0, max(x)], [1.0, 1.0], \"--\", c=\"grey\")\n",
    "\n",
    "plt.plot(range(max(x) + 1), medians, linewidth=2)"
   ]
  },
  {
   "cell_type": "code",
   "execution_count": null,
   "metadata": {},
   "outputs": [],
   "source": [
    "best = max(records, key=lambda r: sum(r[\"baseline_scores\"].values()) / len(r[\"baseline_scores\"].values()))"
   ]
  },
  {
   "cell_type": "code",
   "execution_count": null,
   "metadata": {},
   "outputs": [],
   "source": [
    "print(f\"/home/cortex1/swarm/results/evolve/{run_id}/{best['epoch']}/{best['id']}.py\")"
   ]
  },
  {
   "cell_type": "code",
   "execution_count": null,
   "metadata": {},
   "outputs": [],
   "source": [
    "best"
   ]
  },
  {
   "cell_type": "code",
   "execution_count": null,
   "metadata": {},
   "outputs": [],
   "source": []
  }
 ],
 "metadata": {
  "kernelspec": {
   "display_name": ".venv",
   "language": "python",
   "name": "python3"
  },
  "language_info": {
   "codemirror_mode": {
    "name": "ipython",
    "version": 3
   },
   "file_extension": ".py",
   "mimetype": "text/x-python",
   "name": "python",
   "nbconvert_exporter": "python",
   "pygments_lexer": "ipython3",
   "version": "3.12.3"
  }
 },
 "nbformat": 4,
 "nbformat_minor": 2
}
