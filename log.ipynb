{
 "cells": [
  {
   "cell_type": "code",
   "execution_count": null,
   "metadata": {},
   "outputs": [],
   "source": [
    "import json\n",
    "\n",
    "import matplotlib.pyplot as plt\n",
    "\n",
    "run_ids = []\n",
    "rewards = []\n",
    "with open(\"log.jsonl\", \"r\") as f:\n",
    "    for line in f.readlines():\n",
    "        log = json.loads(line)\n",
    "        run_ids.append(log[\"run_id\"])\n",
    "        matches = [\n",
    "            result[\"reward\"] for result in log[\"results\"] or []\n",
    "            if result[\"name\"] == \"vibe\"\n",
    "        ]\n",
    "        if log[\"error\"] is not None or not matches:\n",
    "            rewards.append(-1)\n",
    "        else:\n",
    "            rewards.append(matches[0])\n",
    "\n",
    "unique_run_ids = list(set(run_ids))\n",
    "run_id_to_color = {uid: plt.cm.tab10(i % 10) for i, uid in enumerate(unique_run_ids)}\n",
    "\n",
    "_ = plt.scatter(\n",
    "    range(len(rewards)),\n",
    "    rewards,\n",
    "    c=[run_id_to_color[run_id] for run_id in run_ids],\n",
    ")"
   ]
  },
  {
   "cell_type": "code",
   "execution_count": null,
   "metadata": {},
   "outputs": [],
   "source": []
  }
 ],
 "metadata": {
  "kernelspec": {
   "display_name": "venv",
   "language": "python",
   "name": "python3"
  },
  "language_info": {
   "codemirror_mode": {
    "name": "ipython",
    "version": 3
   },
   "file_extension": ".py",
   "mimetype": "text/x-python",
   "name": "python",
   "nbconvert_exporter": "python",
   "pygments_lexer": "ipython3",
   "version": "3.10.17"
  }
 },
 "nbformat": 4,
 "nbformat_minor": 2
}
