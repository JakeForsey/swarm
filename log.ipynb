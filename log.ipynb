{
 "cells": [
  {
   "cell_type": "code",
   "execution_count": null,
   "metadata": {},
   "outputs": [],
   "source": [
    "import json\n",
    "\n",
    "import altair as alt\n",
    "import pandas as pd\n",
    " \n",
    "with open(\"grpo2.jsonl\", \"r\") as f:\n",
    "    lines = f.readlines()\n",
    "\n",
    "stats = []\n",
    "for i, line in enumerate(lines):\n",
    "    data = json.loads(line)\n",
    "    if data[\"run_id\"] not in {\n",
    "        # \"6df3c011\",\n",
    "        # \"5c172e2b\",\n",
    "        # \"34f149c3\",\n",
    "        # lora_rank=16!\n",
    "        # \"6b6e34e9\",\n",
    "        # computation graph reward shaping\n",
    "        # \"3294e8e9\",\n",
    "        # temp=0.9, lora_rank=16, computation graph reward shaping\n",
    "        # \"c5b79e89\",\n",
    "        # temp=1.2, lora_rank=16, minimal rewards\n",
    "        # \"c15c5ae6\",\n",
    "        # \"0117ec79\",\n",
    "        # 'fc929682',\n",
    "        \"c6cfce32\",\n",
    "        \"3caa4bed\",\n",
    "\n",
    "        # SFT\n",
    "        # \"c3ad3436\",\n",
    "        # \"431e7d9a\",\n",
    "        \"6a492447\",\n",
    "        \n",
    "        # SFT + computation graph\n",
    "        \"ae4093e3\",\n",
    "        \"a29a3777\",\n",
    "    }: continue\n",
    "    for key in data.keys():\n",
    "        if key.startswith(\"reward\"):\n",
    "            value = data[key]\n",
    "            stats.append({\n",
    "                \"step\": data[\"step\"],\n",
    "                \"id\": i,\n",
    "                \"run_id\": data[\"run_id\"],\n",
    "                \"value\": value, \"reward\": key,\n",
    "            })\n",
    "\n",
    "df = pd.DataFrame(stats)\n",
    "\n",
    "alt.data_transformers.enable(\"vegafusion\")\n",
    "\n",
    "bins = 128\n",
    "mean = alt.Chart(df).encode(\n",
    "    alt.X('step:Q').bin(maxbins=bins),\n",
    "    alt.Y('mean(value):Q'),\n",
    "    alt.Color('run_id:N'),\n",
    ").mark_line()\n",
    "\n",
    "errorband = alt.Chart(df).encode(\n",
    "    alt.X('step:Q').bin(maxbins=bins),\n",
    "    alt.Y('max(value):Q'),\n",
    "    alt.Color('run_id:N'),\n",
    ").mark_errorband(extent=\"ci\")\n",
    "\n",
    "maximum = alt.Chart(df).encode(\n",
    "    alt.X('step:Q').bin(maxbins=bins),\n",
    "    alt.Y('max(value):Q'),\n",
    "    alt.Color('run_id:N'),\n",
    ").mark_circle()\n",
    "\n",
    "(errorband + mean + maximum).facet(\"reward\")"
   ]
  },
  {
   "cell_type": "code",
   "execution_count": null,
   "metadata": {},
   "outputs": [],
   "source": [
    "df.groupby([\"reward\", \"run_id\"])[[\"value\"]].max()"
   ]
  },
  {
   "cell_type": "markdown",
   "metadata": {},
   "source": []
  },
  {
   "cell_type": "code",
   "execution_count": null,
   "metadata": {},
   "outputs": [],
   "source": []
  }
 ],
 "metadata": {
  "kernelspec": {
   "display_name": "venv",
   "language": "python",
   "name": "python3"
  },
  "language_info": {
   "codemirror_mode": {
    "name": "ipython",
    "version": 3
   },
   "file_extension": ".py",
   "mimetype": "text/x-python",
   "name": "python",
   "nbconvert_exporter": "python",
   "pygments_lexer": "ipython3",
   "version": "3.12.3"
  }
 },
 "nbformat": 4,
 "nbformat_minor": 2
}
