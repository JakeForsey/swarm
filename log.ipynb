{
 "cells": [
  {
   "cell_type": "code",
   "execution_count": null,
   "metadata": {},
   "outputs": [],
   "source": [
    "import json\n",
    "\n",
    "import altair as alt\n",
    "import pandas as pd"
   ]
  },
  {
   "cell_type": "code",
   "execution_count": null,
   "metadata": {},
   "outputs": [],
   "source": [
    "with open(\"results/logdir/rewards.jsonl\", \"r\") as f:\n",
    "    lines = f.readlines()\n",
    "\n",
    "df = pd.DataFrame([json.loads(line) for line in lines])\n",
    "df"
   ]
  },
  {
   "cell_type": "code",
   "execution_count": null,
   "metadata": {},
   "outputs": [],
   "source": [
    "alt.data_transformers.enable(\"vegafusion\")\n",
    "\n",
    "bins = 128\n",
    "mean = alt.Chart(df).encode(\n",
    "    alt.X('step:Q').bin(maxbins=bins),\n",
    "    alt.Y('mean(reward):Q'),\n",
    "    alt.Color('run_id:N'),\n",
    ").mark_line()\n",
    "\n",
    "errorband = alt.Chart(df).encode(\n",
    "    alt.X('step:Q').bin(maxbins=bins),\n",
    "    alt.Y('max(reward):Q'),\n",
    "    alt.Color('run_id:N'),\n",
    ").mark_errorband(extent=\"ci\")\n",
    "\n",
    "maximum = alt.Chart(df).encode(\n",
    "    alt.X('step:Q').bin(maxbins=bins),\n",
    "    alt.Y('max(reward):Q'),\n",
    "    alt.Color('run_id:N'),\n",
    ").mark_circle()\n",
    "\n",
    "errorband + mean + maximum"
   ]
  },
  {
   "cell_type": "code",
   "execution_count": null,
   "metadata": {},
   "outputs": [],
   "source": []
  }
 ],
 "metadata": {
  "kernelspec": {
   "display_name": "venv",
   "language": "python",
   "name": "python3"
  },
  "language_info": {
   "codemirror_mode": {
    "name": "ipython",
    "version": 3
   },
   "file_extension": ".py",
   "mimetype": "text/x-python",
   "name": "python",
   "nbconvert_exporter": "python",
   "pygments_lexer": "ipython3",
   "version": "3.12.3"
  }
 },
 "nbformat": 4,
 "nbformat_minor": 2
}
